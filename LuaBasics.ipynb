{
 "cells": [
  {
   "cell_type": "markdown",
   "metadata": {},
   "source": [
    "# Lua Tutorial"
   ]
  },
  {
   "cell_type": "markdown",
   "metadata": {},
   "source": [
    "# Contents"
   ]
  },
  {
   "cell_type": "markdown",
   "metadata": {},
   "source": [
    "1.) Motivation behind using Lua <br>\n",
    "2.) Variables and data structures <br>\n",
    "3.) Basic control-flow structures"
   ]
  },
  {
   "cell_type": "markdown",
   "metadata": {},
   "source": [
    "## Motivation behind using Lua"
   ]
  },
  {
   "cell_type": "markdown",
   "metadata": {},
   "source": [
    "1.) LuaJit is a faster interpreter. A comparitive study on Fibonaaci 40th number in Python and Lua showed Lua was 20 times faster over Python. \n",
    "Execution time in Lua : 2 second\n",
    "Execution tim in Python : 37.28 seconds"
   ]
  },
  {
   "cell_type": "code",
   "execution_count": 9,
   "metadata": {
    "collapsed": false
   },
   "outputs": [
    {
     "data": {
      "text/plain": [
       "165580141\t\n",
       "start time: 1462759362s\t\n",
       "end time: 1462759364s\t\n",
       "time elapsed: 2s\t\n"
      ]
     },
     "execution_count": 9,
     "metadata": {},
     "output_type": "execute_result"
    }
   ],
   "source": [
    "function fib(n)\n",
    "    if n<2 then return 1 end\n",
    "    return fib(n-2) + fib(n-1)\n",
    "end\n",
    "function fibOuter(n)\n",
    "    start_time = os.time()\n",
    "    print(fib(n))\n",
    "    end_time = os.time()\n",
    "    print('start time: '   .. start_time .. 's')\n",
    "    print('end time: '     .. end_time .. 's')\n",
    "    elapsed_time = os.difftime(end_time,start_time)\n",
    "    print('time elapsed: ' .. elapsed_time .. 's')\n",
    "end\n",
    "fibOuter(40)"
   ]
  },
  {
   "cell_type": "markdown",
   "metadata": {
    "collapsed": false
   },
   "source": [
    "2.) Lua has a smaller memory footprint. On the above example memory profiling showed that Lua took 2 times less memory Python\n",
    "Memory footprint in Lua : 927 bytes\n",
    "Memory footprint in Python : 2136 bytes"
   ]
  },
  {
   "cell_type": "markdown",
   "metadata": {
    "collapsed": true
   },
   "source": [
    "Here are some benchmark performance numbers for few examples http://benchmarksgame.alioth.debian.org/u64q/compare.php?lang=lua&lang2=python3"
   ]
  },
  {
   "cell_type": "markdown",
   "metadata": {},
   "source": [
    "3.) Closures are a very powerful tool in Lua, other scripting languages like Python support anonymous and lambda functions but not closures in their entirety. In Python, the enclosing state variable are read-only."
   ]
  },
  {
   "cell_type": "code",
   "execution_count": 4,
   "metadata": {
    "collapsed": false
   },
   "outputs": [
    {
     "data": {
      "text/plain": [
       "1\t\n",
       "2\t\n",
       "3\t\n",
       "4\t\n",
       "5\t\n"
      ]
     },
     "execution_count": 4,
     "metadata": {},
     "output_type": "execute_result"
    }
   ],
   "source": [
    "function generator()\n",
    "    local i = 0\n",
    "    return function()\n",
    "        if i>=5 then return nil \n",
    "        else \n",
    "            i=i+1\n",
    "            return i\n",
    "        end\n",
    "    end\n",
    "end\n",
    "\n",
    "for val in generator() do\n",
    "    print(val)\n",
    "end"
   ]
  },
  {
   "cell_type": "markdown",
   "metadata": {},
   "source": [
    "4.) Light-weight, can be used for embedded systems. For example, the size of python22.dll is 824kb, however, basic vanilla Lua engine, including parser/compiler/interpreter weighs under 100kb."
   ]
  },
  {
   "cell_type": "markdown",
   "metadata": {},
   "source": [
    "5.) The FFI interface is very simple to implement any C/C++ extensions"
   ]
  },
  {
   "cell_type": "markdown",
   "metadata": {},
   "source": [
    "## Variables and Data Structures"
   ]
  },
  {
   "cell_type": "code",
   "execution_count": 9,
   "metadata": {
    "collapsed": false
   },
   "outputs": [
    {
     "data": {
      "text/plain": [
       "immutable 26\t\n"
      ]
     },
     "execution_count": 9,
     "metadata": {},
     "output_type": "execute_result"
    }
   ],
   "source": [
    "local value = 26 --By default number types are double types\n",
    "str = 'immutable' --Strings are immutable so avoid concatenation\n",
    "-- Instead use string format\n",
    "print(string.format('%s %d',str,value))"
   ]
  },
  {
   "cell_type": "code",
   "execution_count": 10,
   "metadata": {
    "collapsed": false
   },
   "outputs": [
    {
     "data": {
      "text/plain": [
       "nil\t\n"
      ]
     },
     "execution_count": 10,
     "metadata": {},
     "output_type": "execute_result"
    }
   ],
   "source": [
    "-- Lua has garbage collector anything set to nil will be collected\n",
    "str = nil\n",
    "collectgarbage()"
   ]
  },
  {
   "cell_type": "markdown",
   "metadata": {},
   "source": [
    "#### Lua's basic datastructure are associative arrays, tables. We can store heterogenous type objects in same table."
   ]
  },
  {
   "cell_type": "code",
   "execution_count": 20,
   "metadata": {
    "collapsed": false
   },
   "outputs": [
    {
     "data": {
      "text/plain": [
       "printing table object..\t\n",
       "{\n",
       "  1 : 1\n",
       "  2 : two\n",
       "  three : 3\n",
       "}\n",
       "scanning over table..\t\n",
       "1 1\t\n",
       "2 two\t\n",
       "three 3\t\n",
       "access table indices..\t\n",
       "1\t\n",
       "nil\t\n",
       "two\t\n",
       "3\t\n"
      ]
     },
     "execution_count": 20,
     "metadata": {},
     "output_type": "execute_result"
    }
   ],
   "source": [
    "--create a table\n",
    "local t = {}\n",
    "table.insert(t,'1')\n",
    "t['2']='two'\n",
    "t.three = '3'\n",
    "print(\"printing table object..\")\n",
    "print(t)\n",
    "print(\"scanning over table..\")\n",
    "for id, value in pairs(t) do\n",
    "    print(string.format(\"%s %s\", id, value))\n",
    "end\n",
    "print(\"access table indices..\")\n",
    "print(t[1])\n",
    "print(t[2]) -- nil because key is string\n",
    "print(t['2'])\n",
    "print(t['three'])"
   ]
  },
  {
   "cell_type": "markdown",
   "metadata": {},
   "source": [
    "## Basic control-flow structures"
   ]
  },
  {
   "cell_type": "code",
   "execution_count": 11,
   "metadata": {
    "collapsed": false
   },
   "outputs": [
    {
     "data": {
      "text/plain": [
       "1\t\n",
       "2\t\n",
       "3\t\n",
       "4\t\n",
       "5\t\n",
       "6\t\n",
       "7\t\n",
       "8\t\n",
       "9\t\n",
       "10\t\n"
      ]
     },
     "execution_count": 11,
     "metadata": {},
     "output_type": "execute_result"
    }
   ],
   "source": [
    "-- while construct\n",
    "local count=0\n",
    "while count<10 do\n",
    "    count=count+1\n",
    "    print(count)\n",
    "end"
   ]
  },
  {
   "cell_type": "code",
   "execution_count": 2,
   "metadata": {
    "collapsed": false
   },
   "outputs": [
    {
     "data": {
      "text/plain": [
       "Value is greater than 10\t\n"
      ]
     },
     "execution_count": 2,
     "metadata": {},
     "output_type": "execute_result"
    }
   ],
   "source": [
    "-- if-else clause\n",
    "local value = 100\n",
    "if value <= 5 then print(\"Value is between 0-5\") \n",
    "elseif value <= 10 then print(\"Value is between 5-10\")\n",
    "else print(\"Value is greater than 10\")\n",
    "end"
   ]
  },
  {
   "cell_type": "code",
   "execution_count": 4,
   "metadata": {
    "collapsed": false
   },
   "outputs": [
    {
     "data": {
      "text/plain": [
       "sum: 55\t\n"
      ]
     },
     "execution_count": 4,
     "metadata": {},
     "output_type": "execute_result"
    }
   ],
   "source": [
    "-- for construct\n",
    "local sum = 0\n",
    "for i=1, 10 do --lower and upper bounds included\n",
    "  sum = sum+i\n",
    "end\n",
    "print(string.format(\"sum: %s\",sum))"
   ]
  },
  {
   "cell_type": "code",
   "execution_count": 6,
   "metadata": {
    "collapsed": false
   },
   "outputs": [
    {
     "data": {
      "text/plain": [
       "25\t\n"
      ]
     },
     "execution_count": 6,
     "metadata": {},
     "output_type": "execute_result"
    }
   ],
   "source": [
    "-- higher-order functions or closures\n",
    "function hypotenuse(x)\n",
    "    return function(y) return x*x + y*y end\n",
    "end\n",
    "\n",
    "h=hypotenuse(3)\n",
    "print(h(4))"
   ]
  },
  {
   "cell_type": "code",
   "execution_count": 7,
   "metadata": {
    "collapsed": false
   },
   "outputs": [
    {
     "data": {
      "text/plain": [
       "10\t\n",
       "eleven\t\n",
       "20\t\n",
       "twenty-one\t\n",
       "30\t\n",
       "thirty-one\t\n"
      ]
     },
     "execution_count": 7,
     "metadata": {},
     "output_type": "execute_result"
    }
   ],
   "source": [
    "-- function iterators or generators\n",
    "list = {10,'eleven',20,'twenty-one',30,'thirty-one'}\n",
    "function iterate (t)\n",
    "  local i = 0\n",
    "  local n = table.getn(t)\n",
    "  return function ()\n",
    "         i = i + 1\n",
    "         if i <= n then return t[i] end\n",
    "         end\n",
    "end\n",
    "\n",
    "for val in iterate(list) do\n",
    "    print(val)\n",
    "end"
   ]
  },
  {
   "cell_type": "code",
   "execution_count": null,
   "metadata": {
    "collapsed": true
   },
   "outputs": [],
   "source": [
    "-- "
   ]
  }
 ],
 "metadata": {
  "kernelspec": {
   "display_name": "iTorch",
   "language": "lua",
   "name": "itorch"
  },
  "language_info": {
   "name": "lua",
   "version": "5.1"
  }
 },
 "nbformat": 4,
 "nbformat_minor": 0
}
