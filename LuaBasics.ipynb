{
 "cells": [
  {
   "cell_type": "markdown",
   "metadata": {},
   "source": [
    "# Lua Tutorial"
   ]
  },
  {
   "cell_type": "markdown",
   "metadata": {},
   "source": [
    "# Contents"
   ]
  },
  {
   "cell_type": "markdown",
   "metadata": {},
   "source": [
    "1.) Motivation behind using Lua <br>\n",
    "2.) Variables and data structures <br>\n",
    "3.) Basic control-flow structures <br>\n",
    "4.) Object-oriented programming <br>\n",
    "5.) Torch tensors and storage <br>\n",
    "6.) Basic Tensor operations <br>\n",
    "7.) Calling C functions from lua using ffi library "
   ]
  },
  {
   "cell_type": "markdown",
   "metadata": {},
   "source": [
    "## Motivation behind using Lua"
   ]
  },
  {
   "cell_type": "markdown",
   "metadata": {},
   "source": [
    "1.) LuaJit is a faster interpreter. A comparitive study on Fibonaaci 40th number in Python and Lua showed Lua was 20 times faster over Python. \n",
    "Execution time in Lua : 2 second\n",
    "Execution tim in Python : 37.28 seconds"
   ]
  },
  {
   "cell_type": "code",
   "execution_count": 9,
   "metadata": {
    "collapsed": false
   },
   "outputs": [
    {
     "data": {
      "text/plain": [
       "165580141\t\n",
       "start time: 1462759362s\t\n",
       "end time: 1462759364s\t\n",
       "time elapsed: 2s\t\n"
      ]
     },
     "execution_count": 9,
     "metadata": {},
     "output_type": "execute_result"
    }
   ],
   "source": [
    "function fib(n)\n",
    "    if n<2 then return 1 end\n",
    "    return fib(n-2) + fib(n-1)\n",
    "end\n",
    "function fibOuter(n)\n",
    "    start_time = os.time()\n",
    "    print(fib(n))\n",
    "    end_time = os.time()\n",
    "    print('start time: '   .. start_time .. 's')\n",
    "    print('end time: '     .. end_time .. 's')\n",
    "    elapsed_time = os.difftime(end_time,start_time)\n",
    "    print('time elapsed: ' .. elapsed_time .. 's')\n",
    "end\n",
    "fibOuter(40)"
   ]
  },
  {
   "cell_type": "markdown",
   "metadata": {
    "collapsed": false
   },
   "source": [
    "2.) Lua has a smaller memory footprint. On the above example memory profiling showed that Lua took 2 times less memory Python\n",
    "Memory footprint in Lua : 927 bytes\n",
    "Memory footprint in Python : 2136 bytes"
   ]
  },
  {
   "cell_type": "markdown",
   "metadata": {
    "collapsed": true
   },
   "source": [
    "Here are some benchmark performance numbers for few examples http://benchmarksgame.alioth.debian.org/u64q/compare.php?lang=lua&lang2=python3"
   ]
  },
  {
   "cell_type": "markdown",
   "metadata": {},
   "source": [
    "3.) Closures are a very powerful tool in Lua, other scripting languages like Python support anonymous and lambda functions but not closures in their entirety. In Python, the enclosing state variable are read-only."
   ]
  },
  {
   "cell_type": "code",
   "execution_count": 4,
   "metadata": {
    "collapsed": false
   },
   "outputs": [
    {
     "data": {
      "text/plain": [
       "1\t\n",
       "2\t\n",
       "3\t\n",
       "4\t\n",
       "5\t\n"
      ]
     },
     "execution_count": 4,
     "metadata": {},
     "output_type": "execute_result"
    }
   ],
   "source": [
    "function generator()\n",
    "    local i = 0\n",
    "    return function()\n",
    "        if i>=5 then return nil \n",
    "        else \n",
    "            i=i+1\n",
    "            return i\n",
    "        end\n",
    "    end\n",
    "end\n",
    "\n",
    "for val in generator() do\n",
    "    print(val)\n",
    "end"
   ]
  },
  {
   "cell_type": "markdown",
   "metadata": {},
   "source": [
    "4.) Light-weight, can be used for embedded systems. For example, the size of python22.dll is 824kb, however, basic vanilla Lua engine, including parser/compiler/interpreter weighs under 100kb."
   ]
  },
  {
   "cell_type": "markdown",
   "metadata": {},
   "source": [
    "5.) The FFI interface is very simple to implement any C/C++ extensions"
   ]
  },
  {
   "cell_type": "markdown",
   "metadata": {},
   "source": [
    "## Variables and Data Structures"
   ]
  },
  {
   "cell_type": "code",
   "execution_count": 9,
   "metadata": {
    "collapsed": false
   },
   "outputs": [
    {
     "data": {
      "text/plain": [
       "immutable 26\t\n"
      ]
     },
     "execution_count": 9,
     "metadata": {},
     "output_type": "execute_result"
    }
   ],
   "source": [
    "local value = 26 --By default number types are double types\n",
    "str = 'immutable' --Strings are immutable so avoid concatenation\n",
    "-- Instead use string format\n",
    "print(string.format('%s %d',str,value))"
   ]
  },
  {
   "cell_type": "code",
   "execution_count": 10,
   "metadata": {
    "collapsed": false
   },
   "outputs": [
    {
     "data": {
      "text/plain": [
       "nil\t\n"
      ]
     },
     "execution_count": 10,
     "metadata": {},
     "output_type": "execute_result"
    }
   ],
   "source": [
    "-- Lua has garbage collector anything set to nil will be collected\n",
    "str = nil\n",
    "collectgarbage()"
   ]
  },
  {
   "cell_type": "markdown",
   "metadata": {},
   "source": [
    "#### Lua's basic datastructure are associative arrays, tables. We can store heterogenous type objects in same table."
   ]
  },
  {
   "cell_type": "code",
   "execution_count": 11,
   "metadata": {
    "collapsed": false
   },
   "outputs": [
    {
     "data": {
      "text/plain": [
       "printing table object..\t\n",
       "{\n",
       "  1 : 1\n",
       "  2 : two\n",
       "  three : 3\n",
       "}\n",
       "scanning over table..\t\n",
       "1 1\t\n",
       "2 two\t\n",
       "three 3\t\n",
       "access table indices..\t\n",
       "t[1] : 1\t\n",
       "t[2] : nil\t\n",
       "t['2'] : two\t\n",
       "t['2'] : 3\t\n",
       "printing json-style table format..\t\n",
       "{\n",
       "  one : 1\n",
       "  two : 2\n",
       "}\n",
       "t.one : 1\t\n"
      ]
     },
     "execution_count": 11,
     "metadata": {},
     "output_type": "execute_result"
    }
   ],
   "source": [
    "--create a table\n",
    "local t = {}\n",
    "table.insert(t,'1')\n",
    "t['2']='two'\n",
    "t.three = '3'\n",
    "print(\"printing table object..\")\n",
    "print(t)\n",
    "print(\"scanning over table..\")\n",
    "for id, value in pairs(t) do\n",
    "    print(string.format(\"%s %s\", id, value))\n",
    "end\n",
    "print(\"access table indices..\")\n",
    "print(string.format(\"t[1] : %s\",t[1]))\n",
    "print(string.format(\"t[2] : %s\",t[2])) -- nil because key is string\n",
    "print(string.format(\"t['2'] : %s\",t['2']))\n",
    "print(string.format(\"t['2'] : %s\",t['three']))\n",
    "\n",
    "--json style way of defining table\n",
    "t = {one = '1', two = '2'}\n",
    "print(\"printing json-style table format..\")\n",
    "print(t)\n",
    "print(string.format(\"t.one : %s\",t.one)) -- like a member variable"
   ]
  },
  {
   "cell_type": "code",
   "execution_count": 1,
   "metadata": {
    "collapsed": false
   },
   "outputs": [
    {
     "data": {
      "text/plain": [
       "{\n",
       "  1 : one\n",
       "  2 : two\n",
       "  3 : three\n",
       "}\n"
      ]
     },
     "execution_count": 1,
     "metadata": {},
     "output_type": "execute_result"
    }
   ],
   "source": [
    "--tables as lists\n",
    "local t = {'one','two','three'}\n",
    "print(t)"
   ]
  },
  {
   "cell_type": "markdown",
   "metadata": {},
   "source": [
    "## Basic control-flow structures"
   ]
  },
  {
   "cell_type": "code",
   "execution_count": 11,
   "metadata": {
    "collapsed": false
   },
   "outputs": [
    {
     "data": {
      "text/plain": [
       "1\t\n",
       "2\t\n",
       "3\t\n",
       "4\t\n",
       "5\t\n",
       "6\t\n",
       "7\t\n",
       "8\t\n",
       "9\t\n",
       "10\t\n"
      ]
     },
     "execution_count": 11,
     "metadata": {},
     "output_type": "execute_result"
    }
   ],
   "source": [
    "-- while construct\n",
    "local count=0\n",
    "while count<10 do\n",
    "    count=count+1\n",
    "    print(count)\n",
    "end"
   ]
  },
  {
   "cell_type": "code",
   "execution_count": 2,
   "metadata": {
    "collapsed": false
   },
   "outputs": [
    {
     "data": {
      "text/plain": [
       "Value is greater than 10\t\n"
      ]
     },
     "execution_count": 2,
     "metadata": {},
     "output_type": "execute_result"
    }
   ],
   "source": [
    "-- if-else clause\n",
    "local value = 100\n",
    "if value <= 5 then print(\"Value is between 0-5\") \n",
    "elseif value <= 10 then print(\"Value is between 5-10\")\n",
    "else print(\"Value is greater than 10\")\n",
    "end"
   ]
  },
  {
   "cell_type": "code",
   "execution_count": 4,
   "metadata": {
    "collapsed": false
   },
   "outputs": [
    {
     "data": {
      "text/plain": [
       "sum: 55\t\n"
      ]
     },
     "execution_count": 4,
     "metadata": {},
     "output_type": "execute_result"
    }
   ],
   "source": [
    "-- for construct\n",
    "local sum = 0\n",
    "for i=1, 10 do --lower and upper bounds included\n",
    "  sum = sum+i\n",
    "end\n",
    "print(string.format(\"sum: %s\",sum))"
   ]
  },
  {
   "cell_type": "code",
   "execution_count": 6,
   "metadata": {
    "collapsed": false
   },
   "outputs": [
    {
     "data": {
      "text/plain": [
       "25\t\n"
      ]
     },
     "execution_count": 6,
     "metadata": {},
     "output_type": "execute_result"
    }
   ],
   "source": [
    "-- higher-order functions or closures\n",
    "function hypotenuse(x)\n",
    "    return function(y) return x*x + y*y end\n",
    "end\n",
    "\n",
    "h=hypotenuse(3)\n",
    "print(h(4))"
   ]
  },
  {
   "cell_type": "code",
   "execution_count": 7,
   "metadata": {
    "collapsed": false
   },
   "outputs": [
    {
     "data": {
      "text/plain": [
       "10\t\n",
       "eleven\t\n",
       "20\t\n",
       "twenty-one\t\n",
       "30\t\n",
       "thirty-one\t\n"
      ]
     },
     "execution_count": 7,
     "metadata": {},
     "output_type": "execute_result"
    }
   ],
   "source": [
    "-- function iterators\n",
    "list = {10,'eleven',20,'twenty-one',30,'thirty-one'}\n",
    "function iterate (t)\n",
    "  local i = 0\n",
    "  local n = table.getn(t)\n",
    "  return function ()\n",
    "         i = i + 1\n",
    "         if i <= n then return t[i] end\n",
    "         end\n",
    "end\n",
    "\n",
    "for val in iterate(list) do\n",
    "    print(val)\n",
    "end"
   ]
  },
  {
   "cell_type": "code",
   "execution_count": 69,
   "metadata": {
    "collapsed": false
   },
   "outputs": [
    {
     "data": {
      "text/plain": [
       "suspended\t\n",
       "iteration : \t1\t\n",
       "true\t\n",
       "suspended\t\n",
       "iteration : \t2\t\n",
       "true\t\n",
       "suspended\t\n",
       "iteration : \t3\t\n",
       "true\t\n",
       "suspended\t\n",
       "true\t\n",
       "dead\t\n",
       "false\tcannot resume dead coroutine\t\n"
      ]
     },
     "execution_count": 69,
     "metadata": {},
     "output_type": "execute_result"
    }
   ],
   "source": [
    "-- co-routines\n",
    "local iterator = coroutine.create(function ()\n",
    "           for i=1,3 do\n",
    "             print(\"iteration : \", i)\n",
    "             coroutine.yield()\n",
    "           end\n",
    "         end)\n",
    "\n",
    "print(coroutine.status(iterator))\n",
    "print(coroutine.resume(iterator))\n",
    "print(coroutine.status(iterator))\n",
    "print(coroutine.resume(iterator))\n",
    "print(coroutine.status(iterator))\n",
    "print(coroutine.resume(iterator))\n",
    "print(coroutine.status(iterator))\n",
    "print(coroutine.resume(iterator))\n",
    "print(coroutine.status(iterator))\n",
    "print(coroutine.resume(iterator))"
   ]
  },
  {
   "cell_type": "markdown",
   "metadata": {},
   "source": [
    "### How are coroutines different from python generators?"
   ]
  },
  {
   "cell_type": "markdown",
   "metadata": {},
   "source": [
    "1.) Python yield is a syntactic sugar which can only be called from within the body of the generator <br>\n",
    "2.) Lua coroutines are asymmetric which means there is one function to resume a suspended co-routine and a different function to suspend a coroutine"
   ]
  },
  {
   "cell_type": "markdown",
   "metadata": {
    "collapsed": true
   },
   "source": [
    "## Object-Oriented paradigm"
   ]
  },
  {
   "cell_type": "raw",
   "metadata": {},
   "source": [
    "1.) No built-in class paradigm in Lua\n",
    "2.) Can use metatables to induce the concept of classes\n",
    "3.) Any table can have a metatable attached to it. Changes in the keys set or 'class members' of different metatables help 'inherit' tables\n",
    "4.) Metamethods are few inbuilt lua function that are attached to a table for instance, __index, __add, __sub etc.\n",
    "5.) Metamethods can be overridden to access keys or 'class members' in a table"
   ]
  },
  {
   "cell_type": "code",
   "execution_count": 10,
   "metadata": {
    "collapsed": false
   },
   "outputs": [
    {
     "data": {
      "text/plain": [
       "{\n",
       "}\n"
      ]
     },
     "execution_count": 10,
     "metadata": {},
     "output_type": "execute_result"
    }
   ],
   "source": [
    "t = {} --regular table\n",
    "mt = {} --metatable, empty for now\n",
    "setmetatable(t, mt)\n",
    "print(getmetatable(t)) --returns mt"
   ]
  },
  {
   "cell_type": "code",
   "execution_count": 35,
   "metadata": {
    "collapsed": false
   },
   "outputs": [
    {
     "data": {
      "text/plain": [
       "table as metatable\t\n",
       "0\t\n",
       "100\t\n",
       "nil\t\n",
       "function as metatable\t\n",
       "nil\t\n",
       "nil\t\n",
       "100\t\n"
      ]
     },
     "execution_count": 35,
     "metadata": {},
     "output_type": "execute_result"
    }
   ],
   "source": [
    "-- __index metamethod\n",
    "-- whenever a table is looked up, for eg, t[1], t['one'], t.one\n",
    "print(\"table as metatable\")\n",
    "local mt = {\n",
    "  __index = {x = 0, y = 0, w = 100, h = 100}\n",
    "}\n",
    "setmetatable(t, mt)\n",
    "print(t.x)\n",
    "print(t['w'])\n",
    "print(t.z)\n",
    "\n",
    "print(\"function as metatable\")\n",
    "--metamethods can be tables or functions\n",
    "local mt = {\n",
    "  __index = function(t, key)\n",
    "              if key == 'z' then return 100 \n",
    "              else return table[key] end\n",
    "            end\n",
    "}\n",
    "setmetatable(t, mt)\n",
    "print(t.x)\n",
    "print(t['w'])\n",
    "print(t.z)\n"
   ]
  },
  {
   "cell_type": "code",
   "execution_count": 38,
   "metadata": {
    "collapsed": false
   },
   "outputs": [
    {
     "data": {
      "text/plain": [
       "100\t\n",
       "10\t\n",
       "100\t\n",
       "0\t\n"
      ]
     },
     "execution_count": 38,
     "metadata": {},
     "output_type": "execute_result"
    }
   ],
   "source": [
    "--[[Optional: <Not used in framework>\n",
    "    Simple class example -- Taken from https://www.lua.org/pil/13.4.1.html]]\n",
    "\n",
    "--create a class\n",
    "Window = {}\n",
    "--create prototypical keyset with default values\n",
    "Window.prototype = {x=0, y=0, width=100, height=100 }\n",
    "Window.mt = {}\n",
    "--declare the constructor\n",
    "function Window.new(o)\n",
    "    setmetatable(o, Window.mt)\n",
    "    return o\n",
    "end\n",
    "\n",
    "Window.mt.__index = function(table, key)\n",
    "  return Window.prototype[key]\n",
    "end\n",
    "\n",
    "w=Window.new({x=10,y=20})\n",
    "print(w.width)\n",
    "print(w.x)\n",
    "\n",
    "w=Window.new({})\n",
    "print(w.width)\n",
    "print(w.x)"
   ]
  },
  {
   "cell_type": "code",
   "execution_count": 1,
   "metadata": {
    "collapsed": false
   },
   "outputs": [
    {
     "data": {
      "text/plain": [
       "Base class\t\n",
       "x=0 y=1\t\n",
       "x=0 y=1\t\n",
       "Inherited class\t\n",
       "0\t\n",
       "100\t\n",
       "x=0 y=1\t\n"
      ]
     },
     "execution_count": 1,
     "metadata": {},
     "output_type": "execute_result"
    }
   ],
   "source": [
    "-- Torch class interface\n",
    "local torch = require 'torch'\n",
    "\n",
    "local C1 = torch.class('torch.C1')\n",
    "function C1:__init() -- equivalent to P.__init(self)\n",
    "  self.x = 0\n",
    "  self.y = 1\n",
    "end\n",
    "function C1.printMembers(self)\n",
    "  print(string.format(\"x=%s y=%s\",self.x, self.y))\n",
    "end\n",
    "\n",
    "local C2, parent = torch.class('torch.C2','torch.C1')\n",
    "function C2:__init()\n",
    "  parent:__init() -- or self.__parent:__init()\n",
    "  self.w = 100\n",
    "  self.h = 100\n",
    "end\n",
    "function C2.printMembers(self)\n",
    "  print(string.format(\"x=%s y=%s\",self.x, self.y, ))\n",
    "end\n",
    "\n",
    "print (\"Base class\")\n",
    "local c1 = torch.C1()\n",
    "c1:printMembers()      -- function call 1\n",
    "c1.printMembers(c1)    -- function call 2\n",
    "\n",
    "print (\"Inherited class\")\n",
    "local c2 = torch.C2()\n",
    "print(c2.x)\n",
    "print(c2.w)\n",
    "c2:printMembers()"
   ]
  },
  {
   "cell_type": "markdown",
   "metadata": {
    "collapsed": false
   },
   "source": [
    "## Torch tensors and storage "
   ]
  },
  {
   "cell_type": "markdown",
   "metadata": {
    "collapsed": true
   },
   "source": [
    "1.) N-dimensional arrays which are views over an underlying storage <br>\n",
    "2.) Different tensors can refer to same storage <br>\n",
    "3.) Different Types of tensors : FloatTensor, DoubleTensor, CudaTensor <br>"
   ]
  },
  {
   "cell_type": "code",
   "execution_count": 7,
   "metadata": {
    "collapsed": false
   },
   "outputs": [
    {
     "data": {
      "text/plain": [
       "-3.1050e+231 -3.1050e+231  6.4229e-323   0.0000e+00\n",
       "  3.3581e+30  1.1286e+277  2.8751e+161  1.4776e+248\n",
       "  1.1610e-28  6.2499e-143   1.1610e-28   1.6889e-52\n",
       "[torch.DoubleTensor of size 3x4]\n",
       "\n",
       " 1  1  1  1\n",
       " 1  1  1  1\n",
       " 1  1  1  1\n",
       "[torch.DoubleTensor of size 3x4]\n",
       "\n"
      ]
     },
     "execution_count": 7,
     "metadata": {},
     "output_type": "execute_result"
    }
   ],
   "source": [
    "a = torch.DoubleTensor(3,4)\n",
    "print(a)             --garbage content\n",
    "a:fill(1)\n",
    "print(a)             --set all values to 1 "
   ]
  },
  {
   "cell_type": "code",
   "execution_count": 8,
   "metadata": {
    "collapsed": false
   },
   "outputs": [
    {
     "data": {
      "text/plain": [
       "1\t\n",
       "\n"
      ]
     },
     "execution_count": 8,
     "metadata": {},
     "output_type": "execute_result"
    }
   ],
   "source": [
    "-- indexing and slicing\n",
    "print(a[{1,1}])"
   ]
  },
  {
   "cell_type": "code",
   "execution_count": 13,
   "metadata": {
    "collapsed": false
   },
   "outputs": [
    {
     "data": {
      "text/plain": [
       " 0.2508\n",
       " 0.4766\n",
       " 0.2709\n",
       " 0.6824\n",
       " 0.8910\n",
       " 0.6375\n",
       " 0.8182\n",
       " 0.6139\n",
       " 0.0232\n",
       " 0.2868\n",
       " 0.4462\n",
       " 0.2112\n",
       "[torch.DoubleStorage of size 12]\n",
       "\n",
       " 0.2508\n",
       " 0.4766\n",
       " 0.2709\n",
       " 0.6824\n",
       " 0.8910\n",
       " 0.6375\n",
       " 0.8182\n",
       " 0.6139\n",
       " 0.0232\n",
       " 0.2868\n",
       " 0.4462\n",
       " 0.2112\n",
       "[torch.DoubleStorage of size 12]\n",
       "\n",
       "a= 0.2508  0.4766  0.2709  0.6824\n",
       " 0.8910  0.6375  0.8182  0.6139\n",
       " 0.0232  0.2868  0.4462  0.2112\n",
       "[torch.DoubleTensor of size 3x4]\n",
       "\t\n",
       "b= 0.2508  0.8910  0.0232\n",
       " 0.4766  0.6375  0.2868\n",
       " 0.2709  0.8182  0.4462\n",
       " 0.6824  0.6139  0.2112\n",
       "[torch.DoubleTensor of size 4x3]\n",
       "\t\n"
      ]
     },
     "execution_count": 13,
     "metadata": {},
     "output_type": "execute_result"
    }
   ],
   "source": [
    "--underlying storage\n",
    "a = torch.rand(3,4) --uniform samples between (0,1)\n",
    "b = a:transpose(1,2) -- transpose between dimension 1 and 2\n",
    "print(a:storage())\n",
    "print(b:storage())\n",
    "print(string.format(\"a=%s\",a))\n",
    "print(string.format(\"b=%s\",b))"
   ]
  },
  {
   "cell_type": "code",
   "execution_count": 14,
   "metadata": {
    "collapsed": false
   },
   "outputs": [
    {
     "data": {
      "text/plain": [
       "true\t\n",
       "false\t\n",
       "a[{1,1}]=0.25083295046352\t\n",
       "a[{1,2}]=0.47656729188748\t\n",
       "a[{2,1}]=0.89103118982166\t\n",
       "b[{1,1}]=0.25083295046352\t\n",
       "b[{1,2}]=0.89103118982166\t\n",
       "b[{2,1}]=0.47656729188748\t\n"
      ]
     },
     "execution_count": 14,
     "metadata": {},
     "output_type": "execute_result"
    }
   ],
   "source": [
    "print(a:isContiguous())\n",
    "print(b:isContiguous()) -- b holds reference to indices in a, doesn't create a new storage\n",
    "print(string.format(\"a[{1,1}]=%s\",a[{1,1}]))\n",
    "print(string.format(\"a[{1,2}]=%s\",a[{1,2}])) \n",
    "print(string.format(\"a[{2,1}]=%s\",a[{2,1}]))\n",
    "print(string.format(\"b[{1,1}]=%s\",b[{1,1}])) \n",
    "print(string.format(\"b[{1,2}]=%s\",b[{1,2}])) \n",
    "print(string.format(\"b[{2,1}]=%s\",b[{2,1}]))"
   ]
  },
  {
   "cell_type": "code",
   "execution_count": 16,
   "metadata": {
    "collapsed": false
   },
   "outputs": [
    {
     "data": {
      "text/plain": [
       " 0.2508  0.8910  0.0232\n",
       " 0.4766  0.6375  0.2868\n",
       " 0.2709  0.8182  0.4462\n",
       " 0.6824  0.6139  0.2112\n",
       "[torch.DoubleTensor of size 4x3]\n",
       "\n",
       "true\t\n"
      ]
     },
     "execution_count": 16,
     "metadata": {},
     "output_type": "execute_result"
    }
   ],
   "source": [
    "c=b:clone()   --allocates new memory\n",
    "print(b)\n",
    "print(c:isContiguous())"
   ]
  },
  {
   "cell_type": "code",
   "execution_count": 17,
   "metadata": {
    "collapsed": false
   },
   "outputs": [
    {
     "data": {
      "text/plain": [
       "c[{1,1}]=0.25083295046352\t\n",
       "c[{1,2}]=0.89103118982166\t\n",
       "c[{2,1}]=0.47656729188748\t\n"
      ]
     },
     "execution_count": 17,
     "metadata": {},
     "output_type": "execute_result"
    }
   ],
   "source": [
    "print(string.format(\"c[{1,1}]=%s\",c[{1,1}]))\n",
    "print(string.format(\"c[{1,2}]=%s\",c[{1,2}]))\n",
    "print(string.format(\"c[{2,1}]=%s\",c[{2,1}]))"
   ]
  },
  {
   "cell_type": "markdown",
   "metadata": {
    "collapsed": true
   },
   "source": [
    "## Basic Tensor operations"
   ]
  },
  {
   "cell_type": "markdown",
   "metadata": {},
   "source": [
    "### Scalar operations"
   ]
  },
  {
   "cell_type": "code",
   "execution_count": 46,
   "metadata": {
    "collapsed": false
   },
   "outputs": [
    {
     "data": {
      "text/plain": [
       "mat = \t\n",
       " 2  2  2\n",
       " 2  2  2\n",
       "[torch.FloatTensor of size 2x3]\n",
       "\n",
       "Adding constant 3 to mat = \t\n",
       " 5  5  5\n",
       " 5  5  5\n",
       "[torch.FloatTensor of size 2x3]\n",
       "\n",
       "Multiply constant 3 to mat = \t\n",
       " 6  6  6\n",
       " 6  6  6\n",
       "[torch.FloatTensor of size 2x3]\n",
       "\n"
      ]
     },
     "execution_count": 46,
     "metadata": {},
     "output_type": "execute_result"
    }
   ],
   "source": [
    "local mat = torch.FloatTensor(2,3):fill(2)\n",
    "print(\"mat = \"); print(mat)\n",
    "print(\"Adding constant 3 to mat = \"); print(torch.add(mat, 3))\n",
    "print(\"Multiply constant 3 to mat = \"); print(torch.mul(mat, 3))"
   ]
  },
  {
   "cell_type": "markdown",
   "metadata": {},
   "source": [
    "### Element-wise operations"
   ]
  },
  {
   "cell_type": "code",
   "execution_count": 48,
   "metadata": {
    "collapsed": false
   },
   "outputs": [
    {
     "data": {
      "text/plain": [
       "mat = \t\n",
       " 2  2  2\n",
       " 2  2  2\n",
       "[torch.FloatTensor of size 2x3]\n",
       "\n",
       "Add a 2D tensor to mat = \t\n",
       " 3.5000  3.5000  3.5000\n",
       " 3.5000  3.5000  3.5000\n",
       "[torch.FloatTensor of size 2x3]\n",
       "\n",
       "Add a flat tensor to mat = \t\n",
       " 4.5000  4.5000  4.5000\n",
       " 4.5000  4.5000  4.5000\n",
       "[torch.FloatTensor of size 2x3]\n",
       "\n",
       "Multipy a tensor to a mat\t\n",
       " 3  3  3\n",
       " 3  3  3\n",
       "[torch.FloatTensor of size 2x3]\n",
       "\n"
      ]
     },
     "execution_count": 48,
     "metadata": {},
     "output_type": "execute_result"
    }
   ],
   "source": [
    "local mat = torch.FloatTensor(2,3):fill(2)\n",
    "print(\"mat = \"); print(mat)\n",
    "-- add two 2D matrix\n",
    "print(\"Add a 2D tensor to mat = \")\n",
    "print(torch.add(mat, torch.FloatTensor(2,3):fill(1.5)))\n",
    "-- add a vector to 2D matrix\n",
    "print(\"Add a flat tensor to mat = \")\n",
    "print(torch.add(mat, torch.FloatTensor(6):fill(2.5)))\n",
    "-- multiply two 2D matrix\n",
    "print(\"Multipy a tensor to a mat\")\n",
    "print(torch.cmul(mat, torch.FloatTensor(2,3):fill(1.5)))"
   ]
  },
  {
   "cell_type": "markdown",
   "metadata": {},
   "source": [
    "### Matrix operations"
   ]
  },
  {
   "cell_type": "markdown",
   "metadata": {},
   "source": [
    "1.) Matrix Multiplication <br>\n",
    "[res]torch.addmm([res,][beta,] [v1,] M [v2,] mat1, mat2)\n",
    "\n",
    "res = (res X beta) + (v1 X M) + (v2 X mat1 X mat2)\n",
    "\n",
    "2.) Matrix-vector multiplication <br>\n",
    "[res] torch.addmv([res,] [beta,] [v1,] vec1, [v2,] mat, vec2)\n",
    "\n",
    "res = beta X res + v1 X vec1 + v2 X mat X vec2"
   ]
  },
  {
   "cell_type": "code",
   "execution_count": 65,
   "metadata": {
    "collapsed": false
   },
   "outputs": [
    {
     "data": {
      "text/plain": [
       "Matrix-vector multiplication\n",
       "\t\n",
       "mat1 = \t\n",
       " 2\n",
       " 2\n",
       "[torch.FloatTensor of size 2]\n",
       "\n",
       "mat2 = \t\n",
       " 3  3\n",
       " 3  3\n",
       " 3  3\n",
       "[torch.FloatTensor of size 3x2]\n",
       "\n",
       " 12\n",
       " 12\n",
       " 12\n",
       "[torch.FloatTensor of size 3]\n",
       "\n",
       "Matrix-matrix multiplication\n",
       "\t\n",
       "mat1 = \t\n",
       " 2  2  2\n",
       " 2  2  2\n",
       "[torch.FloatTensor of size 2x3]\n",
       "\n",
       "mat2 = \t\n",
       " 3  3\n",
       " 3  3\n",
       " 3  3\n",
       "[torch.FloatTensor of size 3x2]\n",
       "\n",
       " 18  18\n",
       " 18  18\n",
       "[torch.FloatTensor of size 2x2]\n",
       "\n"
      ]
     },
     "execution_count": 65,
     "metadata": {},
     "output_type": "execute_result"
    }
   ],
   "source": [
    "print(\"Matrix-vector multiplication\\n\")\n",
    "local mat1 = torch.FloatTensor(2):fill(2)\n",
    "print(\"mat1 = \")\n",
    "print(mat1)\n",
    "local mat2 = torch.FloatTensor(3,2):fill(3)\n",
    "print(\"mat2 = \")\n",
    "print(mat2)\n",
    "local output = torch.FloatTensor(3):fill(0)\n",
    "output:addmv(mat2, mat1)\n",
    "print(output)\n",
    "\n",
    "print(\"Matrix-matrix multiplication\\n\")\n",
    "local mat1 = torch.FloatTensor(2,3):fill(2)\n",
    "print(\"mat1 = \")\n",
    "print(mat1)\n",
    "local mat2 = torch.FloatTensor(3,2):fill(3)\n",
    "print(\"mat2 = \")\n",
    "print(mat2)\n",
    "local output = torch.FloatTensor(2,2):fill(0)\n",
    "output:addmm(mat1, mat2)\n",
    "print(output)"
   ]
  },
  {
   "cell_type": "markdown",
   "metadata": {},
   "source": [
    "## Calling C functions from lua using ffi library "
   ]
  },
  {
   "cell_type": "markdown",
   "metadata": {},
   "source": [
    "1.) This is one of the easiest ways to call external C routines through lua and gets rid of the lua bindings from C. <br>\n",
    "2.) The other way to do that is by using built-in lua bindings in C code to add new functionalities. For further details refer to https://www.lua.org/pil/24.1.html"
   ]
  },
  {
   "cell_type": "code",
   "execution_count": null,
   "metadata": {
    "collapsed": true
   },
   "outputs": [],
   "source": [
    "local ffi = require(\"ffi\")\n",
    "ffi.cdef[[\n",
    "typedef struct { double x, y; } point_t;\n",
    "]]\n",
    "\n",
    "local point\n",
    "local mt = {\n",
    "  __add = function(a, b) return point(a.x+b.x, a.y+b.y) end,\n",
    "  __len = function(a) return math.sqrt(a.x*a.x + a.y*a.y) end,\n",
    "  __index = {\n",
    "    area = function(a) return a.x*a.x + a.y*a.y end,\n",
    "  },\n",
    "}\n",
    "point = ffi.metatype(\"point_t\", mt)\n",
    "\n",
    "local a = point(3, 4)\n",
    "print(a.x, a.y)  \n",
    "print(#a)        \n",
    "print(a:area())  \n",
    "local b = a + point(0.5, 8)\n",
    "print(#b)"
   ]
  }
 ],
 "metadata": {
  "kernelspec": {
   "display_name": "iTorch",
   "language": "lua",
   "name": "itorch"
  },
  "language_info": {
   "name": "lua",
   "version": "5.1"
  }
 },
 "nbformat": 4,
 "nbformat_minor": 0
}
